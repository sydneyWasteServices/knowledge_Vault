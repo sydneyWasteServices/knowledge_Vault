{
 "cells": [
  {
   "cell_type": "code",
   "execution_count": 2,
   "metadata": {},
   "outputs": [],
   "source": [
    "from sqlalchemy import create_engine, Table, Column, Integer, String, MetaData\n",
    "import pandas as pd\n",
    "import pyodbc\n",
    "import pymssql\n",
    "# meta = MetaData()"
   ]
  },
  {
   "cell_type": "code",
   "execution_count": 4,
   "metadata": {},
   "outputs": [
    {
     "ename": "NameError",
     "evalue": "name 'pd' is not defined",
     "output_type": "error",
     "traceback": [
      "\u001b[1;31m---------------------------------------------------------------------------\u001b[0m",
      "\u001b[1;31mNameError\u001b[0m                                 Traceback (most recent call last)",
      "\u001b[1;32m<ipython-input-4-19fd5b3293ad>\u001b[0m in \u001b[0;36m<module>\u001b[1;34m\u001b[0m\n\u001b[1;32m----> 1\u001b[1;33m \u001b[0mdf\u001b[0m \u001b[1;33m=\u001b[0m \u001b[0mpd\u001b[0m\u001b[1;33m.\u001b[0m\u001b[0mread_csv\u001b[0m\u001b[1;33m(\u001b[0m\u001b[1;34m\"../../../../dataVault/booking/27.1.2021_2.2.2021.csv\"\u001b[0m\u001b[1;33m)\u001b[0m\u001b[1;33m\u001b[0m\u001b[1;33m\u001b[0m\u001b[0m\n\u001b[0m",
      "\u001b[1;31mNameError\u001b[0m: name 'pd' is not defined"
     ]
    }
   ],
   "source": [
    "df = pd.read_csv(\"../../../dataVault/booking/27.1.2021_2.2.2021.csv\")   "
   ]
  },
  {
   "cell_type": "code",
   "execution_count": 4,
   "metadata": {},
   "outputs": [],
   "source": [
    "engine = create_engine('mssql+pymssql://SW-SRV1\\ATSSQLEXPRESS/OLTP_SOURCE_COPY_TEST')"
   ]
  },
  {
   "cell_type": "code",
   "execution_count": 6,
   "metadata": {},
   "outputs": [
    {
     "data": {
      "text/plain": [
       "['Job No',\n",
       " 'Date',\n",
       " 'Schd Time Start',\n",
       " 'Schd Time End',\n",
       " 'Latitude',\n",
       " 'Longitude',\n",
       " 'Customer number',\n",
       " 'Customer Name',\n",
       " 'Site Name',\n",
       " 'Address 1',\n",
       " 'Address 2',\n",
       " 'City',\n",
       " 'State',\n",
       " 'PostCode',\n",
       " 'Zone',\n",
       " 'Phone',\n",
       " 'Qty Scheduled',\n",
       " 'Qty Serviced',\n",
       " 'Serv Type',\n",
       " 'Container Type',\n",
       " 'Bin Volume',\n",
       " 'Status',\n",
       " 'Truck number',\n",
       " 'Route number',\n",
       " 'Generate ID',\n",
       " 'Initial Entry Date',\n",
       " 'Weight',\n",
       " 'Prorated Weight',\n",
       " 'Booking Reference 1',\n",
       " 'Booking Reference 2',\n",
       " 'Alternate Ref No 1',\n",
       " 'Alternate Ref No 2',\n",
       " 'Alternate Service Ref 1',\n",
       " 'Alternate Service Ref 2',\n",
       " 'Notes',\n",
       " 'Directions',\n",
       " 'CheckLists',\n",
       " 'Waste Type',\n",
       " 'Tip Site',\n",
       " 'Price',\n",
       " 'PO']"
      ]
     },
     "execution_count": 6,
     "metadata": {},
     "output_type": "execute_result"
    }
   ],
   "source": [
    "# sql_table_create_test = Table('students', meta,\n",
    "#                               Column('Id', Integer, primary_key = True),\n",
    "#                               Column('name', String))\n",
    "list(df.columns)"
   ]
  },
  {
   "cell_type": "code",
   "execution_count": 26,
   "metadata": {},
   "outputs": [],
   "source": [
    "# meta.create_all(engine)\n",
    "# df.to_sql('sws_booking_1', schema='dbo',con=engine)\n"
   ]
  },
  {
   "cell_type": "code",
   "execution_count": null,
   "metadata": {},
   "outputs": [],
   "source": []
  },
  {
   "cell_type": "code",
   "execution_count": null,
   "metadata": {},
   "outputs": [],
   "source": []
  },
  {
   "cell_type": "code",
   "execution_count": null,
   "metadata": {},
   "outputs": [],
   "source": []
  },
  {
   "cell_type": "code",
   "execution_count": null,
   "metadata": {},
   "outputs": [],
   "source": []
  }
 ],
 "metadata": {
  "kernelspec": {
   "display_name": "Python 3",
   "language": "python",
   "name": "python3"
  },
  "language_info": {
   "codemirror_mode": {
    "name": "ipython",
    "version": 3
   },
   "file_extension": ".py",
   "mimetype": "text/x-python",
   "name": "python",
   "nbconvert_exporter": "python",
   "pygments_lexer": "ipython3",
   "version": "3.8.5"
  }
 },
 "nbformat": 4,
 "nbformat_minor": 4
}
